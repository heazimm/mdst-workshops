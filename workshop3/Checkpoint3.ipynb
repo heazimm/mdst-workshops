{
 "cells": [
  {
   "cell_type": "code",
   "execution_count": 4,
   "metadata": {},
   "outputs": [],
   "source": [
    "import pandas as pd\n",
    "import matplotlib.pyplot as plt\n",
    "from scipy import stats"
   ]
  },
  {
   "cell_type": "code",
   "execution_count": 7,
   "metadata": {},
   "outputs": [],
   "source": [
    "df = pd.read_csv(r\"./HospitalAdmissionsData.csv\")"
   ]
  },
  {
   "cell_type": "code",
   "execution_count": 8,
   "metadata": {},
   "outputs": [
    {
     "data": {
      "text/plain": [
       "Index(['ID', 'AdmissionLengthDays', 'Death_1', 'Admission_Type',\n",
       "       'Insurance_Type', 'EnglishLanguage_1', 'Religion_Type', 'Married_1',\n",
       "       'Race', 'Dx'],\n",
       "      dtype='object')"
      ]
     },
     "execution_count": 8,
     "metadata": {},
     "output_type": "execute_result"
    }
   ],
   "source": [
    "df.columns\n",
    "#answer to first question"
   ]
  },
  {
   "cell_type": "code",
   "execution_count": 10,
   "metadata": {},
   "outputs": [
    {
     "name": "stdout",
     "output_type": "stream",
     "text": [
      "<class 'pandas.core.frame.DataFrame'>\n",
      "RangeIndex: 58863 entries, 0 to 58862\n",
      "Data columns (total 10 columns):\n",
      " #   Column               Non-Null Count  Dtype  \n",
      "---  ------               --------------  -----  \n",
      " 0   ID                   58863 non-null  int64  \n",
      " 1   AdmissionLengthDays  58863 non-null  float64\n",
      " 2   Death_1              58863 non-null  int64  \n",
      " 3   Admission_Type       58863 non-null  object \n",
      " 4   Insurance_Type       58863 non-null  object \n",
      " 5   EnglishLanguage_1    58863 non-null  int64  \n",
      " 6   Religion_Type        58408 non-null  object \n",
      " 7   Married_1            58863 non-null  int64  \n",
      " 8   Race                 58863 non-null  object \n",
      " 9   Dx                   58863 non-null  object \n",
      "dtypes: float64(1), int64(4), object(5)\n",
      "memory usage: 4.5+ MB\n"
     ]
    }
   ],
   "source": [
    "#how many features and floats and how many are ints? \n",
    "\n",
    "df.info()\n",
    "#4 ints\n",
    "#1 float\n",
    "\n",
    "#which features are objects\n",
    "#admission_type, insurance_type, religion_type, race, and Dx are objects"
   ]
  },
  {
   "cell_type": "code",
   "execution_count": 11,
   "metadata": {},
   "outputs": [
    {
     "data": {
      "text/plain": [
       "array(['private', 'medicare', 'government', 'medicaid', 'self pay'],\n",
       "      dtype=object)"
      ]
     },
     "execution_count": 11,
     "metadata": {},
     "output_type": "execute_result"
    }
   ],
   "source": [
    "#insurance type values\n",
    "\n",
    "df.Insurance_Type.unique()\n",
    "\n",
    "#private, medicare, government, medicaid, self pay"
   ]
  },
  {
   "cell_type": "code",
   "execution_count": 12,
   "metadata": {},
   "outputs": [
    {
     "data": {
      "text/plain": [
       "count         58863\n",
       "unique            4\n",
       "top       emergency\n",
       "freq          41987\n",
       "Name: Admission_Type, dtype: object"
      ]
     },
     "execution_count": 12,
     "metadata": {},
     "output_type": "execute_result"
    }
   ],
   "source": [
    "# summary statistics for admission type\n",
    "\n",
    "df.Admission_Type.describe()\n",
    "#count : 58863\n",
    "#unique : 4\n",
    "# top : emergency\n",
    "# freq 41987"
   ]
  },
  {
   "cell_type": "code",
   "execution_count": 14,
   "metadata": {},
   "outputs": [
    {
     "data": {
      "text/html": [
       "<div>\n",
       "<style scoped>\n",
       "    .dataframe tbody tr th:only-of-type {\n",
       "        vertical-align: middle;\n",
       "    }\n",
       "\n",
       "    .dataframe tbody tr th {\n",
       "        vertical-align: top;\n",
       "    }\n",
       "\n",
       "    .dataframe thead th {\n",
       "        text-align: right;\n",
       "    }\n",
       "</style>\n",
       "<table border=\"1\" class=\"dataframe\">\n",
       "  <thead>\n",
       "    <tr style=\"text-align: right;\">\n",
       "      <th></th>\n",
       "      <th>Admission_Type</th>\n",
       "      <th>Insurance_Type</th>\n",
       "      <th>Religion_Type</th>\n",
       "      <th>Race</th>\n",
       "      <th>Dx</th>\n",
       "    </tr>\n",
       "  </thead>\n",
       "  <tbody>\n",
       "    <tr>\n",
       "      <th>count</th>\n",
       "      <td>58863</td>\n",
       "      <td>58863</td>\n",
       "      <td>58408</td>\n",
       "      <td>58863</td>\n",
       "      <td>58863</td>\n",
       "    </tr>\n",
       "    <tr>\n",
       "      <th>unique</th>\n",
       "      <td>4</td>\n",
       "      <td>5</td>\n",
       "      <td>20</td>\n",
       "      <td>41</td>\n",
       "      <td>15647</td>\n",
       "    </tr>\n",
       "    <tr>\n",
       "      <th>top</th>\n",
       "      <td>emergency</td>\n",
       "      <td>medicare</td>\n",
       "      <td>catholic</td>\n",
       "      <td>white</td>\n",
       "      <td>newborn</td>\n",
       "    </tr>\n",
       "    <tr>\n",
       "      <th>freq</th>\n",
       "      <td>41987</td>\n",
       "      <td>28157</td>\n",
       "      <td>20561</td>\n",
       "      <td>40927</td>\n",
       "      <td>7823</td>\n",
       "    </tr>\n",
       "  </tbody>\n",
       "</table>\n",
       "</div>"
      ],
      "text/plain": [
       "       Admission_Type Insurance_Type Religion_Type   Race       Dx\n",
       "count           58863          58863         58408  58863    58863\n",
       "unique              4              5            20     41    15647\n",
       "top         emergency       medicare      catholic  white  newborn\n",
       "freq            41987          28157         20561  40927     7823"
      ]
     },
     "execution_count": 14,
     "metadata": {},
     "output_type": "execute_result"
    }
   ],
   "source": [
    "# most common most common admission type, insurance type, religion type, race, and diagnosis (Dx)\n",
    "\n",
    "df.describe(include=\"object\")\n",
    "# admission type: emergency\n",
    "# insurance type: medicare\n",
    "# religion type: catholic\n",
    "# race: white\n",
    "# Dx : newborn"
   ]
  },
  {
   "cell_type": "code",
   "execution_count": 16,
   "metadata": {},
   "outputs": [
    {
     "data": {
      "text/plain": [
       "Text(0, 0.5, 'Counts')"
      ]
     },
     "execution_count": 16,
     "metadata": {},
     "output_type": "execute_result"
    },
    {
     "data": {
      "image/png": "[encoded data removed]",
      "text/plain": [
       "<Figure size 432x288 with 1 Axes>"
      ]
     },
     "metadata": {
      "needs_background": "light"
     },
     "output_type": "display_data"
    }
   ],
   "source": [
    "# histogram\n",
    "df.Admission_Type.hist()\n",
    "plt.title(\"Counts for each Admission Type\")\n",
    "plt.xlabel(\"Admission Type\")\n",
    "plt.ylabel(\"Counts\")"
   ]
  },
  {
   "cell_type": "code",
   "execution_count": 19,
   "metadata": {},
   "outputs": [
    {
     "data": {
      "text/plain": [
       "Text(0, 0.5, 'Counts on log scale')"
      ]
     },
     "execution_count": 19,
     "metadata": {},
     "output_type": "execute_result"
    },
    {
     "data": {
      "image/png": "[encoded data removed]",
      "text/plain": [
       "<Figure size 432x288 with 1 Axes>"
      ]
     },
     "metadata": {
      "needs_background": "light"
     },
     "output_type": "display_data"
    }
   ],
   "source": [
    "df.Admission_Type.hist(log=True)\n",
    "plt.title(\"Counts for each Admission Type\")\n",
    "plt.xlabel(\"Admission Type\")\n",
    "plt.ylabel(\"Counts on log scale\")\n",
    "\n",
    "#most admission types are for emergencies"
   ]
  },
  {
   "cell_type": "code",
   "execution_count": 28,
   "metadata": {},
   "outputs": [
    {
     "name": "stdout",
     "output_type": "stream",
     "text": [
      "                   ID  AdmissionLengthDays  EnglishLanguage_1  Married_1\n",
      "Death_1                                                                 \n",
      "0        29484.310219            10.140012           0.576748   0.406765\n",
      "1        29724.728811            10.129606           0.519651   0.446001\n"
     ]
    }
   ],
   "source": [
    "#compare the average length of admission\n",
    "# between those who died versus those who did not die: visualization with labels and titles\n",
    "df2 = df.groupby(\"Death_1\").mean()\n",
    "print(df2)"
   ]
  },
  {
   "cell_type": "code",
   "execution_count": 27,
   "metadata": {},
   "outputs": [
    {
     "data": {
      "text/plain": [
       "<matplotlib.axes._subplots.AxesSubplot at 0x11dae5b00>"
      ]
     },
     "execution_count": 27,
     "metadata": {},
     "output_type": "execute_result"
    },
    {
     "data": {
      "image/png": "[encoded data removed]",
      "text/plain": [
       "<Figure size 432x288 with 1 Axes>"
      ]
     },
     "metadata": {
      "needs_background": "light"
     },
     "output_type": "display_data"
    }
   ],
   "source": [
    "df2.plot.bar(y=[\"AdmissionLengthDays\"])\n"
   ]
  },
  {
   "cell_type": "code",
   "execution_count": 34,
   "metadata": {},
   "outputs": [],
   "source": [
    "#describe the asscoiation between death and insurance type\n",
    "crosstable = pd.crosstab(df.Death_1, df.Insurance_Type)"
   ]
  },
  {
   "cell_type": "code",
   "execution_count": 35,
   "metadata": {},
   "outputs": [
    {
     "name": "stdout",
     "output_type": "stream",
     "text": [
      "(990.8535593949656, 3.425615316200906e-213, 4, array([[ 1603.93780473,  5206.26864074, 25357.70733738, 20293.73076466,\n",
      "          549.35545249],\n",
      "       [  177.06219527,   574.73135926,  2799.29266262,  2240.26923534,\n",
      "           60.64454751]]))\n"
     ]
    }
   ],
   "source": [
    "chi = stats.chi2_contingency(crosstable)\n",
    "print(chi)"
   ]
  },
  {
   "cell_type": "code",
   "execution_count": 36,
   "metadata": {},
   "outputs": [
    {
     "name": "stdout",
     "output_type": "stream",
     "text": [
      "            ID  AdmissionLengthDays  Admission_Type  Insurance_Type  \\\n",
      "Death_1                                                               \n",
      "0        53011                53011           53011           53011   \n",
      "1         5852                 5852            5852            5852   \n",
      "\n",
      "         EnglishLanguage_1  Religion_Type  Married_1   Race     Dx  \n",
      "Death_1                                                             \n",
      "0                    53011          52653      53011  53011  53011  \n",
      "1                     5852           5755       5852   5852   5852  \n"
     ]
    }
   ],
   "source": [
    "#bar char for death and insurance type\n",
    "df3 = df.groupby(\"Death_1\").count()\n",
    "print(df3)"
   ]
  },
  {
   "cell_type": "code",
   "execution_count": null,
   "metadata": {},
   "outputs": [],
   "source": []
  }
 ],
 "metadata": {
  "kernelspec": {
   "display_name": "Python 3",
   "language": "python",
   "name": "python3"
  },
  "language_info": {
   "codemirror_mode": {
    "name": "ipython",
    "version": 3
   },
   "file_extension": ".py",
   "mimetype": "text/x-python",
   "name": "python",
   "nbconvert_exporter": "python",
   "pygments_lexer": "ipython3",
   "version": "3.7.3"
  }
 },
 "nbformat": 4,
 "nbformat_minor": 4
}
